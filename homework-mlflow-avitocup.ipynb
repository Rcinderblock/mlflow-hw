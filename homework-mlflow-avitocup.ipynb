{
 "cells": [
  {
   "cell_type": "markdown",
   "metadata": {},
   "source": [
    "# Load Data"
   ]
  },
  {
   "cell_type": "code",
   "execution_count": 1,
   "metadata": {
    "execution": {
     "iopub.execute_input": "2025-05-10T19:01:42.074366Z",
     "iopub.status.busy": "2025-05-10T19:01:42.073394Z",
     "iopub.status.idle": "2025-05-10T19:01:42.107100Z",
     "shell.execute_reply": "2025-05-10T19:01:42.106112Z",
     "shell.execute_reply.started": "2025-05-10T19:01:42.074333Z"
    },
    "trusted": true
   },
   "outputs": [],
   "source": [
    "%load_ext autoreload\n",
    "%autoreload 2"
   ]
  },
  {
   "cell_type": "code",
   "execution_count": 2,
   "metadata": {
    "execution": {
     "iopub.execute_input": "2025-05-10T19:01:42.108836Z",
     "iopub.status.busy": "2025-05-10T19:01:42.108539Z",
     "iopub.status.idle": "2025-05-10T19:01:50.191664Z",
     "shell.execute_reply": "2025-05-10T19:01:50.190532Z",
     "shell.execute_reply.started": "2025-05-10T19:01:42.108804Z"
    },
    "trusted": true
   },
   "outputs": [
    {
     "name": "stdout",
     "output_type": "stream",
     "text": [
      "Note: you may need to restart the kernel to use updated packages.\n"
     ]
    },
    {
     "name": "stderr",
     "output_type": "stream",
     "text": [
      "����� �� ����� ������� ����� � 䠩��, ⠪ ��� ��� 䠩� ����� ��㣨� ����ᮬ.\n"
     ]
    }
   ],
   "source": [
    "%pip install polars==1.25.2 >> _"
   ]
  },
  {
   "cell_type": "code",
   "execution_count": 3,
   "metadata": {
    "execution": {
     "iopub.execute_input": "2025-05-10T19:01:50.193159Z",
     "iopub.status.busy": "2025-05-10T19:01:50.192826Z",
     "iopub.status.idle": "2025-05-10T19:01:54.377243Z",
     "shell.execute_reply": "2025-05-10T19:01:54.376041Z",
     "shell.execute_reply.started": "2025-05-10T19:01:50.193127Z"
    },
    "scrolled": true,
    "trusted": true
   },
   "outputs": [
    {
     "name": "stdout",
     "output_type": "stream",
     "text": [
      "Note: you may need to restart the kernel to use updated packages.\n"
     ]
    },
    {
     "name": "stderr",
     "output_type": "stream",
     "text": [
      "����� �� ����� ������� ����� � 䠩��, ⠪ ��� ��� 䠩� ����� ��㣨� ����ᮬ.\n"
     ]
    }
   ],
   "source": [
    "%pip install implicit >> _"
   ]
  },
  {
   "cell_type": "code",
   "execution_count": 4,
   "metadata": {},
   "outputs": [
    {
     "name": "stderr",
     "output_type": "stream",
     "text": [
      "����� �� ����� ������� ����� � 䠩��, ⠪ ��� ��� 䠩� ����� ��㣨� ����ᮬ.\n"
     ]
    },
    {
     "name": "stdout",
     "output_type": "stream",
     "text": [
      "Note: you may need to restart the kernel to use updated packages.\n",
      "Note: you may need to restart the kernel to use updated packages.\n"
     ]
    },
    {
     "name": "stderr",
     "output_type": "stream",
     "text": [
      "����� �� ����� ������� ����� � 䠩��, ⠪ ��� ��� 䠩� ����� ��㣨� ����ᮬ.\n"
     ]
    }
   ],
   "source": [
    "%pip install numpy >> _\n",
    "%pip install scipy >> _\n"
   ]
  },
  {
   "cell_type": "code",
   "execution_count": 5,
   "metadata": {
    "execution": {
     "iopub.execute_input": "2025-05-10T19:01:54.379712Z",
     "iopub.status.busy": "2025-05-10T19:01:54.378570Z",
     "iopub.status.idle": "2025-05-10T19:01:54.514762Z",
     "shell.execute_reply": "2025-05-10T19:01:54.513511Z",
     "shell.execute_reply.started": "2025-05-10T19:01:54.379677Z"
    },
    "trusted": true
   },
   "outputs": [
    {
     "name": "stderr",
     "output_type": "stream",
     "text": [
      "�������� ��� 䠩� data 㦥 �������.\n"
     ]
    }
   ],
   "source": [
    "%mkdir data"
   ]
  },
  {
   "cell_type": "code",
   "execution_count": 6,
   "metadata": {
    "execution": {
     "iopub.execute_input": "2025-05-10T19:01:54.518118Z",
     "iopub.status.busy": "2025-05-10T19:01:54.517835Z",
     "iopub.status.idle": "2025-05-10T19:01:54.535297Z",
     "shell.execute_reply": "2025-05-10T19:01:54.534355Z",
     "shell.execute_reply.started": "2025-05-10T19:01:54.518096Z"
    },
    "trusted": true
   },
   "outputs": [],
   "source": [
    "# # takes 5 minutes\n",
    "# !wget https://storage.yandexcloud.net/ds-ods/files/data/docs/competitions/Avitotechcomp2025/data_competition_1/clickstream.pq -O data/clickstream.pq >> _\n",
    "# !wget https://storage.yandexcloud.net/ds-ods/files/data/docs/competitions/Avitotechcomp2025/data_competition_1/test_users.pq -O data/test_users.pq >> _\n",
    "# !wget https://storage.yandexcloud.net/ds-ods/files/data/docs/competitions/Avitotechcomp2025/data_competition_1/cat_features.pq -O data/cat_features.pq >> _\n",
    "# !wget https://storage.yandexcloud.net/ds-ods/files/data/docs/competitions/Avitotechcomp2025/data_competition_1/text_features.pq -O data/text_features.pq >> _\n",
    "# !wget https://storage.yandexcloud.net/ds-ods/files/data/docs/competitions/Avitotechcomp2025/data_competition_1/events.pq -O data/events.pq >> _\n"
   ]
  },
  {
   "cell_type": "code",
   "execution_count": 7,
   "metadata": {
    "execution": {
     "iopub.execute_input": "2025-05-10T19:01:54.536547Z",
     "iopub.status.busy": "2025-05-10T19:01:54.536279Z",
     "iopub.status.idle": "2025-05-10T19:01:55.226365Z",
     "shell.execute_reply": "2025-05-10T19:01:55.225370Z",
     "shell.execute_reply.started": "2025-05-10T19:01:54.536524Z"
    },
    "trusted": true
   },
   "outputs": [
    {
     "ename": "ModuleNotFoundError",
     "evalue": "No module named 'implicit'",
     "output_type": "error",
     "traceback": [
      "\u001b[1;31m---------------------------------------------------------------------------\u001b[0m",
      "\u001b[1;31mModuleNotFoundError\u001b[0m                       Traceback (most recent call last)",
      "Cell \u001b[1;32mIn[7], line 3\u001b[0m\n\u001b[0;32m      1\u001b[0m \u001b[38;5;28;01mfrom\u001b[39;00m\u001b[38;5;250m \u001b[39m\u001b[38;5;21;01mdatetime\u001b[39;00m\u001b[38;5;250m \u001b[39m\u001b[38;5;28;01mimport\u001b[39;00m timedelta\n\u001b[0;32m      2\u001b[0m \u001b[38;5;28;01mimport\u001b[39;00m\u001b[38;5;250m \u001b[39m\u001b[38;5;21;01mpolars\u001b[39;00m\u001b[38;5;250m \u001b[39m\u001b[38;5;28;01mas\u001b[39;00m\u001b[38;5;250m \u001b[39m\u001b[38;5;21;01mpl\u001b[39;00m\n\u001b[1;32m----> 3\u001b[0m \u001b[38;5;28;01mimport\u001b[39;00m\u001b[38;5;250m \u001b[39m\u001b[38;5;21;01mimplicit\u001b[39;00m\n",
      "\u001b[1;31mModuleNotFoundError\u001b[0m: No module named 'implicit'"
     ]
    }
   ],
   "source": [
    "from datetime import timedelta\n",
    "import polars as pl\n",
    "import implicit"
   ]
  },
  {
   "cell_type": "code",
   "execution_count": null,
   "metadata": {
    "execution": {
     "iopub.execute_input": "2025-05-10T19:01:55.227899Z",
     "iopub.status.busy": "2025-05-10T19:01:55.227378Z",
     "iopub.status.idle": "2025-05-10T19:02:44.032139Z",
     "shell.execute_reply": "2025-05-10T19:02:44.030903Z",
     "shell.execute_reply.started": "2025-05-10T19:01:55.227874Z"
    },
    "trusted": true
   },
   "outputs": [],
   "source": [
    "DATA_DIR = '/kaggle/input/avito-cup-2025-recsys/'\n",
    "\n",
    "df_test_users = pl.read_parquet(f'{DATA_DIR}/test_users.pq')\n",
    "df_clickstream = pl.read_parquet(f'{DATA_DIR}/clickstream.pq')\n",
    "\n",
    "df_cat_features = pl.read_parquet(f'{DATA_DIR}/cat_features.pq')\n",
    "df_text_features = pl.read_parquet(f'{DATA_DIR}/text_features.pq')\n",
    "df_event = pl.read_parquet(f'{DATA_DIR}/events.pq')"
   ]
  },
  {
   "cell_type": "markdown",
   "metadata": {},
   "source": [
    "# PREPARE TRAIN EVAL"
   ]
  },
  {
   "cell_type": "code",
   "execution_count": null,
   "metadata": {
    "execution": {
     "iopub.execute_input": "2025-05-10T19:02:44.033558Z",
     "iopub.status.busy": "2025-05-10T19:02:44.033150Z",
     "iopub.status.idle": "2025-05-10T19:02:44.052580Z",
     "shell.execute_reply": "2025-05-10T19:02:44.051533Z",
     "shell.execute_reply.started": "2025-05-10T19:02:44.033512Z"
    },
    "trusted": true
   },
   "outputs": [],
   "source": [
    "EVAL_DAYS_TRESHOLD = 14"
   ]
  },
  {
   "cell_type": "code",
   "execution_count": null,
   "metadata": {
    "execution": {
     "iopub.execute_input": "2025-05-10T19:02:44.054016Z",
     "iopub.status.busy": "2025-05-10T19:02:44.053711Z",
     "iopub.status.idle": "2025-05-10T19:02:44.129559Z",
     "shell.execute_reply": "2025-05-10T19:02:44.128549Z",
     "shell.execute_reply.started": "2025-05-10T19:02:44.053992Z"
    },
    "trusted": true
   },
   "outputs": [],
   "source": [
    "treshhold = df_clickstream['event_date'].max() - timedelta(days=EVAL_DAYS_TRESHOLD)"
   ]
  },
  {
   "cell_type": "code",
   "execution_count": null,
   "metadata": {
    "execution": {
     "iopub.execute_input": "2025-05-10T19:02:44.130818Z",
     "iopub.status.busy": "2025-05-10T19:02:44.130559Z",
     "iopub.status.idle": "2025-05-10T19:02:46.333766Z",
     "shell.execute_reply": "2025-05-10T19:02:46.332813Z",
     "shell.execute_reply.started": "2025-05-10T19:02:44.130798Z"
    },
    "trusted": true
   },
   "outputs": [],
   "source": [
    "df_train = df_clickstream.filter(df_clickstream['event_date']<= treshhold)\n",
    "df_eval = df_clickstream.filter(df_clickstream['event_date']> treshhold)[['cookie', 'node', 'event']]"
   ]
  },
  {
   "cell_type": "code",
   "execution_count": null,
   "metadata": {
    "execution": {
     "iopub.execute_input": "2025-05-10T19:02:46.335303Z",
     "iopub.status.busy": "2025-05-10T19:02:46.334986Z",
     "iopub.status.idle": "2025-05-10T19:02:52.636608Z",
     "shell.execute_reply": "2025-05-10T19:02:52.635547Z",
     "shell.execute_reply.started": "2025-05-10T19:02:46.335279Z"
    },
    "trusted": true
   },
   "outputs": [],
   "source": [
    "df_eval = df_eval.join(df_train, on=['cookie', 'node'], how='anti')\n"
   ]
  },
  {
   "cell_type": "code",
   "execution_count": null,
   "metadata": {
    "execution": {
     "iopub.execute_input": "2025-05-10T19:02:52.637966Z",
     "iopub.status.busy": "2025-05-10T19:02:52.637657Z",
     "iopub.status.idle": "2025-05-10T19:02:52.731083Z",
     "shell.execute_reply": "2025-05-10T19:02:52.730075Z",
     "shell.execute_reply.started": "2025-05-10T19:02:52.637939Z"
    },
    "trusted": true
   },
   "outputs": [],
   "source": [
    "df_eval = df_eval.filter(\n",
    "    pl.col('event').is_in(\n",
    "        df_event.filter(pl.col('is_contact')==1)['event'].unique()\n",
    "    )\n",
    ")"
   ]
  },
  {
   "cell_type": "code",
   "execution_count": null,
   "metadata": {
    "execution": {
     "iopub.execute_input": "2025-05-10T19:02:52.732214Z",
     "iopub.status.busy": "2025-05-10T19:02:52.731964Z",
     "iopub.status.idle": "2025-05-10T19:02:54.399187Z",
     "shell.execute_reply": "2025-05-10T19:02:54.398180Z",
     "shell.execute_reply.started": "2025-05-10T19:02:52.732194Z"
    },
    "trusted": true
   },
   "outputs": [],
   "source": [
    "df_eval = df_eval.filter(\n",
    "        pl.col('cookie').is_in(df_train['cookie'].unique())\n",
    "    ).filter(\n",
    "        pl.col('node').is_in(df_train['node'].unique())\n",
    "    )"
   ]
  },
  {
   "cell_type": "code",
   "execution_count": null,
   "metadata": {
    "trusted": true
   },
   "outputs": [],
   "source": []
  },
  {
   "cell_type": "markdown",
   "metadata": {},
   "source": [
    "# TRAIN MODEL"
   ]
  },
  {
   "cell_type": "markdown",
   "metadata": {},
   "source": [
    "## ALS"
   ]
  },
  {
   "cell_type": "code",
   "execution_count": null,
   "metadata": {
    "execution": {
     "iopub.execute_input": "2025-05-10T19:02:54.403159Z",
     "iopub.status.busy": "2025-05-10T19:02:54.402422Z",
     "iopub.status.idle": "2025-05-10T19:02:54.426415Z",
     "shell.execute_reply": "2025-05-10T19:02:54.425564Z",
     "shell.execute_reply.started": "2025-05-10T19:02:54.403131Z"
    },
    "trusted": true
   },
   "outputs": [],
   "source": [
    "def get_als_pred(users, nodes, user_to_pred, \n",
    "                 factors=60, \n",
    "                 iterations=10, \n",
    "                 regularization=0.1, \n",
    "                 alpha=1.0,\n",
    "                 use_cg=True,\n",
    "                 random_state=None):\n",
    "    \"\"\"\n",
    "    Получение предсказаний ALS модели\n",
    "    \n",
    "    Параметры:\n",
    "    ----------\n",
    "    users : pd.Series / pl.Series\n",
    "        Серия с идентификаторами пользователей\n",
    "    nodes : pd.Series / pl.Series\n",
    "        Серия с идентификаторами товаров/узлов\n",
    "    user_to_pred : list\n",
    "        Список пользователей для предсказания\n",
    "    factors : int, optional\n",
    "        Количество латентных факторов (по умолчанию 60)\n",
    "    iterations : int, optional\n",
    "        Количество итераций обучения (по умолчанию 10)\n",
    "    regularization : float, optional\n",
    "        Параметр регуляризации (по умолчанию 0.1)\n",
    "    alpha : float, optional\n",
    "        Параметр доверия (по умолчанию 1.0)\n",
    "    use_cg : bool, optional\n",
    "        Использовать ли метод сопряженных градиентов (по умолчанию True)\n",
    "    random_state : int, optional\n",
    "        Seed для воспроизводимости (по умолчанию None)\n",
    "    \n",
    "    Возвращает:\n",
    "    -----------\n",
    "    pl.DataFrame\n",
    "        Датафрейм с предсказаниями (columns: cookie, node, scores)\n",
    "    \"\"\"\n",
    "    user_ids = users.unique().to_list()\n",
    "    item_ids = nodes.unique().to_list()\n",
    "        \n",
    "    user_id_to_index = {user_id: idx for idx, user_id in enumerate(user_ids)}\n",
    "    item_id_to_index = {item_id: idx for idx, item_id in enumerate(item_ids)}\n",
    "    index_to_item_id = {v:k for k,v in item_id_to_index.items()}\n",
    "    \n",
    "    rows = users.replace_strict(user_id_to_index).to_list()\n",
    "    cols = nodes.replace_strict(item_id_to_index).to_list()\n",
    "    \n",
    "    values = [1] * len(users)\n",
    "    \n",
    "    sparse_matrix = csr_matrix((values, (rows, cols)), shape=(len(user_ids), len(item_ids)))\n",
    "    \n",
    "    # Инициализация модели с переданными параметрами\n",
    "    model = implicit.als.AlternatingLeastSquares(\n",
    "        factors=factors,\n",
    "        iterations=iterations,\n",
    "        regularization=regularization,\n",
    "        alpha=alpha,\n",
    "        use_cg=use_cg,\n",
    "        random_state=random_state\n",
    "    )\n",
    "    \n",
    "    # Обучение модели с учетом параметра alpha\n",
    "    model.fit((sparse_matrix * alpha).astype('float64'))\n",
    "    \n",
    "    user4pred = np.array([user_id_to_index[i] for i in user_to_pred])\n",
    "    \n",
    "    recommendations, scores = model.recommend(\n",
    "        user4pred, \n",
    "        sparse_matrix[user4pred], \n",
    "        N=40, \n",
    "        filter_already_liked_items=True\n",
    "    )\n",
    "    \n",
    "    df_pred = pl.DataFrame(\n",
    "        {\n",
    "            'node': [\n",
    "                [index_to_item_id[i] for i in i] for i in recommendations.tolist()\n",
    "            ], \n",
    "            'cookie': list(user_to_pred),\n",
    "            'scores': scores.tolist()\n",
    "        }\n",
    "    )\n",
    "    df_pred = df_pred.explode(['node', 'scores'])\n",
    "    return df_pred"
   ]
  },
  {
   "cell_type": "code",
   "execution_count": null,
   "metadata": {
    "execution": {
     "iopub.execute_input": "2025-05-10T19:02:54.428131Z",
     "iopub.status.busy": "2025-05-10T19:02:54.427862Z",
     "iopub.status.idle": "2025-05-10T19:05:10.343457Z",
     "shell.execute_reply": "2025-05-10T19:05:10.342628Z",
     "shell.execute_reply.started": "2025-05-10T19:02:54.428111Z"
    },
    "scrolled": true,
    "trusted": true
   },
   "outputs": [],
   "source": [
    "from scipy.sparse import csr_matrix\n",
    "import numpy as np\n",
    "import implicit\n",
    "\n",
    "\n",
    "users = df_train[\"cookie\"]\n",
    "nodes = df_train[\"node\"]\n",
    "eval_users = df_eval['cookie'].unique().to_list()\n",
    "\n",
    "df_pred = get_als_pred(users, nodes,eval_users )"
   ]
  },
  {
   "cell_type": "markdown",
   "metadata": {},
   "source": [
    "## popular"
   ]
  },
  {
   "cell_type": "code",
   "execution_count": null,
   "metadata": {
    "execution": {
     "iopub.execute_input": "2025-05-10T19:05:10.344912Z",
     "iopub.status.busy": "2025-05-10T19:05:10.344637Z",
     "iopub.status.idle": "2025-05-10T19:05:14.973203Z",
     "shell.execute_reply": "2025-05-10T19:05:14.972310Z",
     "shell.execute_reply.started": "2025-05-10T19:05:10.344890Z"
    },
    "trusted": true
   },
   "outputs": [],
   "source": [
    "def get_popular(df):\n",
    "    popukar_node = df.group_by('node').agg(pl.col('cookie').count()).sort('cookie').tail(40)['node'].to_list()\n",
    "    df_pred_pop = pl.DataFrame({'node': [popukar_node for i in range(len(eval_users))], 'cookie': eval_users})\n",
    "    df_pred_pop = df_pred_pop.explode('node')\n",
    "    return df_pred_pop\n",
    "\n",
    "train_pop = get_popular(df_train)\n"
   ]
  },
  {
   "cell_type": "markdown",
   "metadata": {},
   "source": [
    "# CALC EVAL METRICS"
   ]
  },
  {
   "cell_type": "code",
   "execution_count": null,
   "metadata": {
    "execution": {
     "iopub.execute_input": "2025-05-10T19:05:14.974393Z",
     "iopub.status.busy": "2025-05-10T19:05:14.974134Z",
     "iopub.status.idle": "2025-05-10T19:05:14.993565Z",
     "shell.execute_reply": "2025-05-10T19:05:14.992420Z",
     "shell.execute_reply.started": "2025-05-10T19:05:14.974372Z"
    },
    "trusted": true
   },
   "outputs": [],
   "source": [
    "def recall_at(df_true, df_pred, k=40):\n",
    "    return  df_true[['node', 'cookie']].join(\n",
    "        df_pred.group_by('cookie').head(k).with_columns(value=1)[['node', 'cookie', 'value']], \n",
    "        how='left',\n",
    "        on = ['cookie', 'node']\n",
    "    ).select(\n",
    "        [pl.col('value').fill_null(0), 'cookie']\n",
    "    ).group_by(\n",
    "        'cookie'\n",
    "    ).agg(\n",
    "        [\n",
    "            pl.col('value').sum()/pl.col(\n",
    "                'value'\n",
    "            ).count()\n",
    "        ]\n",
    "    )['value'].mean()\n"
   ]
  },
  {
   "cell_type": "code",
   "execution_count": null,
   "metadata": {
    "execution": {
     "iopub.execute_input": "2025-05-10T19:05:14.994908Z",
     "iopub.status.busy": "2025-05-10T19:05:14.994545Z",
     "iopub.status.idle": "2025-05-10T19:05:15.391103Z",
     "shell.execute_reply": "2025-05-10T19:05:15.390390Z",
     "shell.execute_reply.started": "2025-05-10T19:05:14.994877Z"
    },
    "trusted": true
   },
   "outputs": [],
   "source": [
    "recall_at(df_eval, df_pred, k=40)"
   ]
  },
  {
   "cell_type": "code",
   "execution_count": null,
   "metadata": {
    "execution": {
     "iopub.execute_input": "2025-05-10T19:05:15.392204Z",
     "iopub.status.busy": "2025-05-10T19:05:15.391963Z",
     "iopub.status.idle": "2025-05-10T19:05:15.773555Z",
     "shell.execute_reply": "2025-05-10T19:05:15.772755Z",
     "shell.execute_reply.started": "2025-05-10T19:05:15.392184Z"
    },
    "trusted": true
   },
   "outputs": [],
   "source": [
    "recall_at(df_eval, train_pop, k=40)"
   ]
  },
  {
   "cell_type": "markdown",
   "metadata": {},
   "source": [
    "# SUMBIT"
   ]
  },
  {
   "cell_type": "code",
   "execution_count": null,
   "metadata": {
    "execution": {
     "iopub.execute_input": "2025-05-10T19:05:15.774874Z",
     "iopub.status.busy": "2025-05-10T19:05:15.774557Z",
     "iopub.status.idle": "2025-05-10T19:08:43.960137Z",
     "shell.execute_reply": "2025-05-10T19:08:43.959116Z",
     "shell.execute_reply.started": "2025-05-10T19:05:15.774850Z"
    },
    "trusted": true
   },
   "outputs": [],
   "source": [
    "users = df_clickstream[\"cookie\"]\n",
    "nodes = df_clickstream[\"node\"]\n",
    "test_users = df_test_users['cookie'].unique().to_list()\n",
    "\n",
    "df_pred = get_als_pred(users, nodes, test_users )\n"
   ]
  },
  {
   "cell_type": "code",
   "execution_count": null,
   "metadata": {
    "execution": {
     "iopub.execute_input": "2025-05-10T19:08:43.961350Z",
     "iopub.status.busy": "2025-05-10T19:08:43.961088Z",
     "iopub.status.idle": "2025-05-10T19:08:44.654595Z",
     "shell.execute_reply": "2025-05-10T19:08:44.653558Z",
     "shell.execute_reply.started": "2025-05-10T19:08:43.961329Z"
    },
    "trusted": true
   },
   "outputs": [],
   "source": [
    "df_pred.write_csv('prediction.csv')"
   ]
  },
  {
   "cell_type": "markdown",
   "metadata": {},
   "source": [
    "# ML FLOW SETUP"
   ]
  },
  {
   "cell_type": "code",
   "execution_count": null,
   "metadata": {
    "execution": {
     "iopub.execute_input": "2025-05-10T19:08:44.656075Z",
     "iopub.status.busy": "2025-05-10T19:08:44.655738Z",
     "iopub.status.idle": "2025-05-10T19:08:57.049089Z",
     "shell.execute_reply": "2025-05-10T19:08:57.047625Z",
     "shell.execute_reply.started": "2025-05-10T19:08:44.656044Z"
    },
    "trusted": true
   },
   "outputs": [],
   "source": [
    "%pip install mlflow >> _"
   ]
  },
  {
   "cell_type": "code",
   "execution_count": null,
   "metadata": {
    "execution": {
     "iopub.execute_input": "2025-05-10T19:08:57.051024Z",
     "iopub.status.busy": "2025-05-10T19:08:57.050616Z",
     "iopub.status.idle": "2025-05-10T19:09:03.118425Z",
     "shell.execute_reply": "2025-05-10T19:09:03.117411Z",
     "shell.execute_reply.started": "2025-05-10T19:08:57.050983Z"
    },
    "trusted": true
   },
   "outputs": [],
   "source": [
    "import mlflow"
   ]
  },
  {
   "cell_type": "code",
   "execution_count": null,
   "metadata": {
    "execution": {
     "iopub.execute_input": "2025-05-10T19:09:03.119918Z",
     "iopub.status.busy": "2025-05-10T19:09:03.119345Z",
     "iopub.status.idle": "2025-05-10T19:09:03.147316Z",
     "shell.execute_reply": "2025-05-10T19:09:03.146158Z",
     "shell.execute_reply.started": "2025-05-10T19:09:03.119891Z"
    },
    "trusted": true
   },
   "outputs": [],
   "source": [
    "mlflow.set_tracking_uri(\"http://51.250.35.156:5000/\")"
   ]
  },
  {
   "cell_type": "code",
   "execution_count": null,
   "metadata": {
    "execution": {
     "iopub.execute_input": "2025-05-10T19:09:03.148973Z",
     "iopub.status.busy": "2025-05-10T19:09:03.148551Z",
     "iopub.status.idle": "2025-05-10T19:09:03.179756Z",
     "shell.execute_reply": "2025-05-10T19:09:03.178594Z",
     "shell.execute_reply.started": "2025-05-10T19:09:03.148946Z"
    },
    "trusted": true
   },
   "outputs": [],
   "source": [
    "NAME=\"homework-ralolaev.ext\""
   ]
  },
  {
   "cell_type": "code",
   "execution_count": null,
   "metadata": {
    "execution": {
     "iopub.execute_input": "2025-05-10T19:09:03.181229Z",
     "iopub.status.busy": "2025-05-10T19:09:03.180917Z",
     "iopub.status.idle": "2025-05-10T19:09:03.210554Z",
     "shell.execute_reply": "2025-05-10T19:09:03.209569Z",
     "shell.execute_reply.started": "2025-05-10T19:09:03.181203Z"
    },
    "trusted": true
   },
   "outputs": [],
   "source": [
    "# mlflow.create_experiment(\n",
    "#     name=NAME,\n",
    "#     artifact_location=\"mlflow-artifacts:/\"\n",
    "# )"
   ]
  },
  {
   "cell_type": "code",
   "execution_count": null,
   "metadata": {
    "execution": {
     "iopub.execute_input": "2025-05-10T19:09:03.212196Z",
     "iopub.status.busy": "2025-05-10T19:09:03.211753Z",
     "iopub.status.idle": "2025-05-10T19:09:03.390154Z",
     "shell.execute_reply": "2025-05-10T19:09:03.389411Z",
     "shell.execute_reply.started": "2025-05-10T19:09:03.212166Z"
    },
    "trusted": true
   },
   "outputs": [],
   "source": [
    "mlflow.set_experiment(experiment_name=NAME)"
   ]
  },
  {
   "cell_type": "code",
   "execution_count": null,
   "metadata": {
    "execution": {
     "iopub.execute_input": "2025-05-10T19:09:03.391301Z",
     "iopub.status.busy": "2025-05-10T19:09:03.391007Z",
     "iopub.status.idle": "2025-05-10T19:09:03.431283Z",
     "shell.execute_reply": "2025-05-10T19:09:03.430317Z",
     "shell.execute_reply.started": "2025-05-10T19:09:03.391280Z"
    },
    "trusted": true
   },
   "outputs": [],
   "source": [
    "from scipy.sparse import csr_matrix\n",
    "import numpy as np\n",
    "import implicit\n",
    "import time\n",
    "\n",
    "users = df_train[\"cookie\"]\n",
    "nodes = df_train[\"node\"]\n",
    "eval_users = df_eval['cookie'].unique().to_list()"
   ]
  },
  {
   "cell_type": "code",
   "execution_count": null,
   "metadata": {
    "execution": {
     "iopub.execute_input": "2025-05-10T19:09:03.432547Z",
     "iopub.status.busy": "2025-05-10T19:09:03.432251Z",
     "iopub.status.idle": "2025-05-10T19:09:03.460330Z",
     "shell.execute_reply": "2025-05-10T19:09:03.459272Z",
     "shell.execute_reply.started": "2025-05-10T19:09:03.432517Z"
    },
    "trusted": true
   },
   "outputs": [],
   "source": [
    "als_params = {\n",
    "    'factors': 100,\n",
    "    'iterations': 10, \n",
    "    'regularization': 0.005,\n",
    "    'alpha': 1,\n",
    "    'use_cg': False,\n",
    "    'random_state': 42\n",
    "}\n",
    "\n",
    "with mlflow.start_run(run_name=\"ALS_best_Run\"):\n",
    "    try:\n",
    "        mlflow.log_params(als_params)\n",
    "        \n",
    "        df_pred = get_als_pred(users, nodes, eval_users, **als_params)\n",
    "        \n",
    "        r_als = recall_at(df_eval, df_pred, k=40)\n",
    "        mlflow.log_metric(\"Recall_40\", r_als)\n",
    "        \n",
    "        print(f\"ALS Recall@40: {r_als:.4f}\")\n",
    "        \n",
    "    except Exception as e:\n",
    "        mlflow.log_param(\"error\", str(e))\n",
    "        raise"
   ]
  },
  {
   "cell_type": "markdown",
   "metadata": {},
   "source": [
    "# Перебор параметров ALS"
   ]
  },
  {
   "cell_type": "code",
   "execution_count": null,
   "metadata": {
    "execution": {
     "iopub.execute_input": "2025-05-10T19:09:03.461817Z",
     "iopub.status.busy": "2025-05-10T19:09:03.461493Z",
     "iopub.status.idle": "2025-05-10T19:18:47.936190Z",
     "shell.execute_reply": "2025-05-10T19:18:47.934771Z",
     "shell.execute_reply.started": "2025-05-10T19:09:03.461792Z"
    },
    "trusted": true
   },
   "outputs": [],
   "source": [
    "# import mlflow\n",
    "# import itertools\n",
    "# import time\n",
    "# import polars as pl\n",
    "\n",
    "# param_grid_als = {\n",
    "#     'factors': [50, 100, 150, 200],\n",
    "#     'iterations': [10, 15, 20, 25],\n",
    "#     'regularization': [0.005, 0.01, 0.05, 0.1],\n",
    "#     'alpha': [1, 5, 10, 20, 40],\n",
    "#     'use_cg': [False],\n",
    "#     'random_state': [42]\n",
    "# }\n",
    "\n",
    "# param_names_als = list(param_grid_als.keys())\n",
    "# param_value_lists_als = list(param_grid_als.values())\n",
    "\n",
    "# all_param_combinations_als = list(itertools.product(*param_value_lists_als))\n",
    "\n",
    "# print(f\"Запланировано запусков для ALS: {len(all_param_combinations_als)}\")\n",
    "\n",
    "# for i, param_values_tuple_als in enumerate(all_param_combinations_als):\n",
    "#     current_als_params = dict(zip(param_names_als, param_values_tuple_als))\n",
    "\n",
    "#     run_name_als = f\"ALS_f{current_als_params['factors']}\" \\\n",
    "#                    f\"_i{current_als_params['iterations']}\" \\\n",
    "#                    f\"_reg{current_als_params['regularization']}\" \\\n",
    "#                    f\"_alpha{current_als_params['alpha']}\" \\\n",
    "#                    f\"_cg{'T' if current_als_params['use_cg'] else 'F'}\"\n",
    "\n",
    "#     print(f\"\\n--- Запуск ALS {i+1}/{len(all_param_combinations_als)}: {run_name_als} ---\")\n",
    "#     print(f\"Параметры: {current_als_params}\")\n",
    "\n",
    "#     with mlflow.start_run(run_name=run_name_als):\n",
    "#         mlflow.log_params(current_als_params)\n",
    "#         mlflow.log_param(\"model_type\", \"ALS\")\n",
    "\n",
    "#         try:\n",
    "#             start_time_train = time.time()\n",
    "            \n",
    "#             df_pred = get_als_pred(\n",
    "#                 users, nodes, eval_users, **current_als_params\n",
    "#             )\n",
    "            \n",
    "#             training_time = time.time() - start_time_train\n",
    "#             mlflow.log_metric(\"training_time_sec\", training_time)\n",
    "#             print(f\"Время обучения: {training_time:.2f} сек.\")\n",
    "\n",
    "#             if df_pred is not None and df_pred.height > 0:\n",
    "#                 r_als = recall_at(df_eval, df_pred, k=40)\n",
    "#                 mlflow.log_metric(\"Recall_40\", r_als)\n",
    "#                 print(f\"ALS Recall@40: {r_als:.4f}\")\n",
    "                                \n",
    "#             elif df_pred is None:\n",
    "#                  print(\"ALS предсказания: df_pred is None.\")\n",
    "#                  mlflow.log_metric(\"Recall_40\", 0.0)\n",
    "#             else: # df_pred.height == 0\n",
    "#                 print(\"ALS предсказания: df_pred пустой (нет строк).\")\n",
    "#                 mlflow.log_metric(\"Recall_40\", 0.0)\n",
    "\n",
    "#         except Exception as e:\n",
    "#             print(f\"ОШИБКА во время запуска ALS с параметрами {current_als_params}: {e}\")\n",
    "#             import traceback\n",
    "#             traceback.print_exc()\n",
    "#             mlflow.log_param(\"error_message\", str(e))\n",
    "#             mlflow.set_tag(\"run_status\", \"FAILED\") # Используем run_status\n",
    "\n",
    "# print(\"\\n--- Перебор параметров для ALS завершен ---\")"
   ]
  },
  {
   "cell_type": "markdown",
   "metadata": {},
   "source": [
    "# Перебор парамнтров BPR "
   ]
  },
  {
   "cell_type": "code",
   "execution_count": null,
   "metadata": {
    "execution": {
     "iopub.status.busy": "2025-05-10T19:18:47.937170Z",
     "iopub.status.idle": "2025-05-10T19:18:47.937615Z",
     "shell.execute_reply": "2025-05-10T19:18:47.937409Z",
     "shell.execute_reply.started": "2025-05-10T19:18:47.937388Z"
    },
    "trusted": true
   },
   "outputs": [],
   "source": [
    "# from implicit.bpr import BayesianPersonalizedRanking\n",
    "\n",
    "# def get_bpr_pred(users, nodes, user_to_pred, factors=60, iterations=10, learning_rate=0.01, regularization=0.1, random_state=None):\n",
    "#     user_ids = users.unique().to_list()\n",
    "#     item_ids = nodes.unique().to_list()\n",
    "        \n",
    "#     user_id_to_index = {user_id: idx for idx, user_id in enumerate(user_ids)}\n",
    "#     item_id_to_index = {item_id: idx for idx, item_id in enumerate(item_ids)}\n",
    "#     index_to_item_id = {v:k for k,v in item_id_to_index.items()}\n",
    "    \n",
    "#     rows = users.replace_strict(user_id_to_index).to_list()\n",
    "#     cols = nodes.replace_strict(item_id_to_index).to_list()\n",
    "#     values = [1] * len(users)\n",
    "    \n",
    "#     sparse_matrix = csr_matrix((values, (rows, cols)), shape=(len(user_ids), len(item_ids)))\n",
    "    \n",
    "#     model = BayesianPersonalizedRanking(\n",
    "#         factors=factors,\n",
    "#         iterations=iterations,\n",
    "#         learning_rate=learning_rate,\n",
    "#         regularization=regularization,\n",
    "#         random_state=random_state\n",
    "#     )\n",
    "#     model.fit(sparse_matrix)\n",
    "    \n",
    "#     user4pred_indices = np.array([user_id_to_index[i] for i in user_to_pred if i in user_id_to_index]) # Убедимся, что юзеры есть в словаре\n",
    "#     valid_user_to_pred = [i for i in user_to_pred if i in user_id_to_index]\n",
    "\n",
    "#     if len(user4pred_indices) == 0:\n",
    "#          return pl.DataFrame({'node': [], 'cookie': [], 'scores': []})\n",
    "\n",
    "\n",
    "#     recommendations, scores = model.recommend(\n",
    "#         user4pred_indices, \n",
    "#         sparse_matrix[user4pred_indices], \n",
    "#         N=40, \n",
    "#         filter_already_liked_items=True\n",
    "#     )\n",
    "    \n",
    "#     df_pred = pl.DataFrame({\n",
    "#         'node': [[index_to_item_id.get(i) for i in rec_list if index_to_item_id.get(i) is not None] for rec_list in recommendations.tolist()],\n",
    "#         'cookie': valid_user_to_pred,\n",
    "#         'scores': scores.tolist()\n",
    "#     })\n",
    "#     df_pred = df_pred.explode(['node', 'scores'])\n",
    "#     return df_pred, model"
   ]
  },
  {
   "cell_type": "code",
   "execution_count": null,
   "metadata": {
    "execution": {
     "iopub.status.busy": "2025-05-10T19:18:47.939400Z",
     "iopub.status.idle": "2025-05-10T19:18:47.939778Z",
     "shell.execute_reply": "2025-05-10T19:18:47.939649Z",
     "shell.execute_reply.started": "2025-05-10T19:18:47.939634Z"
    },
    "trusted": true
   },
   "outputs": [],
   "source": [
    "# import mlflow\n",
    "# import itertools\n",
    "# import time\n",
    "\n",
    "# param_grid_bpr = {\n",
    "#     'factors': [150, 200],\n",
    "#     'iterations': [10, 20],\n",
    "#     'learning_rate': [0.005, 0.05],\n",
    "#     'regularization': [0.001, 0.1],\n",
    "#     'random_state': [42]\n",
    "# }\n",
    "# param_names = list(param_grid_bpr.keys())\n",
    "# param_value_lists = list(param_grid_bpr.values())\n",
    "\n",
    "# all_param_combinations = list(itertools.product(*param_value_lists))\n",
    "\n",
    "# print(f\"Запланировано запусков для BPR: {len(all_param_combinations)}\")\n",
    "\n",
    "# for i, param_values_tuple in enumerate(all_param_combinations):\n",
    "#     current_bpr_params = dict(zip(param_names, param_values_tuple))\n",
    "\n",
    "#     run_name = f\"BPR_factors_{current_bpr_params['factors']}\" \\\n",
    "#                f\"_iter_{current_bpr_params['iterations']}\" \\\n",
    "#                f\"_lr_{current_bpr_params['learning_rate']}\" \\\n",
    "#                f\"_reg_{current_bpr_params['regularization']}\"\n",
    "\n",
    "#     print(f\"\\n--- Запуск {i+1}/{len(all_param_combinations)}: {run_name} ---\")\n",
    "#     print(f\"Параметры: {current_bpr_params}\")\n",
    "\n",
    "#     with mlflow.start_run(run_name=run_name):\n",
    "#         mlflow.log_params(current_bpr_params)\n",
    "\n",
    "#         try:\n",
    "#             start_time = time.time()\n",
    "#             df_pred_bpr, bpr_model_instance = get_bpr_pred(\n",
    "#                 users, nodes, eval_users, **current_bpr_params\n",
    "#             )\n",
    "#             training_time = time.time() - start_time\n",
    "#             mlflow.log_metric(\"training_time_sec\", training_time)\n",
    "\n",
    "#             if df_pred_bpr.height > 0:\n",
    "#                 r_bpr = recall_at(df_eval, df_pred_bpr, k=40)\n",
    "#                 mlflow.log_metric(\"Recall_40\", r_bpr)\n",
    "#                 print(f\"BPR Recall@40: {r_bpr:.4f} (Обучение: {training_time:.2f} сек)\")\n",
    "\n",
    "#             else:\n",
    "#                 print(\"BPR эксперимент: для этого набора параметров предсказания не сгенерированы.\")\n",
    "#                 mlflow.log_metric(\"Recall_40\", 0.0)\n",
    "#                 mlflow.log_metric(\"training_time_sec\", training_time)\n",
    "\n",
    "#         except Exception as e:\n",
    "#             print(f\"ОШИБКА во время запуска BPR с параметрами {current_bpr_params}: {e}\")\n",
    "#             mlflow.log_param(\"error\", str(e))\n",
    "\n",
    "# print(\"\\n--- Перебор параметров для BPR завершен ---\")"
   ]
  },
  {
   "cell_type": "code",
   "execution_count": null,
   "metadata": {
    "trusted": true
   },
   "outputs": [],
   "source": []
  }
 ],
 "metadata": {
  "kaggle": {
   "accelerator": "none",
   "dataSources": [
    {
     "datasetId": 7014875,
     "sourceId": 11230507,
     "sourceType": "datasetVersion"
    }
   ],
   "dockerImageVersionId": 31012,
   "isGpuEnabled": false,
   "isInternetEnabled": true,
   "language": "python",
   "sourceType": "notebook"
  },
  "kernelspec": {
   "display_name": "Python 3",
   "language": "python",
   "name": "python3"
  },
  "language_info": {
   "codemirror_mode": {
    "name": "ipython",
    "version": 3
   },
   "file_extension": ".py",
   "mimetype": "text/x-python",
   "name": "python",
   "nbconvert_exporter": "python",
   "pygments_lexer": "ipython3",
   "version": "3.12.4"
  }
 },
 "nbformat": 4,
 "nbformat_minor": 4
}
